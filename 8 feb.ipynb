{
 "cells": [
  {
   "cell_type": "markdown",
   "id": "3a4c1f27-285f-495a-8b30-3d523afee2de",
   "metadata": {},
   "source": [
    "Q1. What is Abstraction in OOps? Explain with an example.\n",
    "\n",
    "Answer--> The fourth pillar of OOP is Abstraction. Abstraction is about keeping the process simple by hiding unnecessary details from the user. \n",
    "\n",
    "Example --> Think of a car; the actual mechanism that keeps a car moving is hidden from the user. It is important to know how to drive a car; but it is not necessarily important to know what happens under the hood when you drive the car. Abstraction is about keeping the internal mechanics of the code hidden from the user. This reduces the complexity of the code, and ensures that we only concentrate on what is important."
   ]
  },
  {
   "cell_type": "code",
   "execution_count": 9,
   "id": "d69b8045-57e9-4abe-b6a5-8a842a2e979c",
   "metadata": {},
   "outputs": [],
   "source": [
    "from abc import ABC , abstractmethod  # we just imported abcstation class ABC  with help of abc module and @abstrationmethod as a decoratetor from the same "
   ]
  },
  {
   "cell_type": "code",
   "execution_count": 7,
   "id": "ecce34fe-ce2e-47ce-b130-7d9f6853f860",
   "metadata": {},
   "outputs": [],
   "source": [
    "class car(ABC):  # passing ABC class  \n",
    "    @abstractmethod\n",
    "    def car_model(self):\n",
    "        pass"
   ]
  },
  {
   "cell_type": "code",
   "execution_count": 8,
   "id": "244bea98-f33b-4458-89cc-11172e9f7f14",
   "metadata": {},
   "outputs": [
    {
     "ename": "TypeError",
     "evalue": "Can't instantiate abstract class car with abstract method car_model",
     "output_type": "error",
     "traceback": [
      "\u001b[0;31m---------------------------------------------------------------------------\u001b[0m",
      "\u001b[0;31mTypeError\u001b[0m                                 Traceback (most recent call last)",
      "Cell \u001b[0;32mIn[8], line 1\u001b[0m\n\u001b[0;32m----> 1\u001b[0m c \u001b[38;5;241m=\u001b[39m \u001b[43mcar\u001b[49m\u001b[43m(\u001b[49m\u001b[43m)\u001b[49m \u001b[38;5;66;03m# we are not able to create a instance for the class\u001b[39;00m\n",
      "\u001b[0;31mTypeError\u001b[0m: Can't instantiate abstract class car with abstract method car_model"
     ]
    }
   ],
   "source": [
    "c = car() # we are not able to create a instance for the class"
   ]
  },
  {
   "cell_type": "code",
   "execution_count": null,
   "id": "387e1ed7-4c54-4afe-ba9a-232ca55436bc",
   "metadata": {},
   "outputs": [],
   "source": []
  },
  {
   "cell_type": "markdown",
   "id": "ebea2a78-70b8-4849-bc2f-9018d9d75bc3",
   "metadata": {},
   "source": [
    "Q2. Differentiate between Abstraction and Encapsulation. Explain with an example.\n",
    "\n",
    "Answer -->  \n",
    "1 Abstraction shows only useful data by providing the most necessary details, whereas Encapsulation wraps code and data for necessary information.\n",
    "\n",
    "2  Abstraction solves problems at the design level while Encapsulation solves problems at the implementation level.\n",
    "\n",
    "3 Abstraction is focused mainly on what should be done, while Encapsulation is focused on how it should be done.\n",
    "\n",
    "4 Abstraction hides the irrelevant details found in the code, whereas Encapsulation helps developers to organize the entire code easily."
   ]
  },
  {
   "cell_type": "code",
   "execution_count": null,
   "id": "c2b37d14-62b4-495d-8ab1-e268eab4f158",
   "metadata": {},
   "outputs": [],
   "source": []
  },
  {
   "cell_type": "markdown",
   "id": "4062b261-0537-49f6-b677-0521ee0b3471",
   "metadata": {},
   "source": [
    "Q3. What is abc module in python? Why is it used?\n",
    "\n",
    "Answer --> This module provides the infrastructure for defining abstract base classes (ABCs) in Python.\n",
    "\n",
    "The main goal of the abstract base class is to provide a standardized way to test whether an object adheres to a given specification. It can also prevent any attempt to instantiate a subclass that doesn’t override a particular method in the superclass. And finally, using an abstract class, a class can derive identity from another class without any object inheritance."
   ]
  },
  {
   "cell_type": "code",
   "execution_count": null,
   "id": "9c7fe3a9-6be2-446a-8316-33a4ba406c38",
   "metadata": {},
   "outputs": [],
   "source": []
  },
  {
   "cell_type": "markdown",
   "id": "60e515c1-ed7a-4ed7-b05f-09d0c9ccdc86",
   "metadata": {},
   "source": [
    "Q4. How can we achieve data abstraction?\n",
    "\n",
    "Answer --> There are several ways to achieve data abstraction, including:\n",
    "\n",
    "Encapsulation: This involves encapsulating the data and operations that manipulate the data in a single unit, called a class. The class provides an interface to access and manipulate the data, while the implementation details are hidden from the user.\n",
    "\n",
    "Inheritance: Inheritance allows you to create a new class by inheriting properties and methods from an existing class. By creating a new class with a simpler interface that inherits from a more complex class, you can achieve data abstraction.\n",
    "\n",
    "Polymorphism: Polymorphism allows objects of different classes to be treated as if they are of the same type. This makes it possible to write code that can operate on a wide range of objects without needing to know their specific type.\n",
    "\n",
    "Interfaces: An interface is a contract that specifies a set of methods that a class must implement. By defining an interface for a data type, you can separate the interface from the implementation and achieve data abstraction.\n",
    "\n",
    "Abstract classes: An abstract class is a class that cannot be instantiated, but can be used as a base class for other classes. By defining abstract classes with a simplified interface, you can achieve data abstraction.\n",
    "\n",
    "By using one or more of these techniques, you can achieve data abstraction in your software system, which can help to make your code more maintainable, reusable, and easier to understand."
   ]
  },
  {
   "cell_type": "code",
   "execution_count": null,
   "id": "b3324ebe-edc9-4ab2-9bb9-1a5f061d4b8b",
   "metadata": {},
   "outputs": [],
   "source": []
  },
  {
   "cell_type": "markdown",
   "id": "08bbef25-69b8-48fa-bdd2-143d73f47840",
   "metadata": {},
   "source": [
    "Q5. Can we create an instance of an abstract class? Explain your answer.\n",
    "\n",
    "Answer --> we can't create a instance for an abstract class . "
   ]
  },
  {
   "cell_type": "code",
   "execution_count": 22,
   "id": "842ae05a-6245-4837-87d7-fd566962ed69",
   "metadata": {},
   "outputs": [],
   "source": [
    "class car(ABC):  # passing ABC class  \n",
    "    @abstractmethod   # creating an abstract class\n",
    "    def car_model(self):\n",
    "        pass\n",
    "\n",
    "class Tesla:\n",
    "    def car_model2(self):\n",
    "        print(\"Car Model is Tesla\")\n",
    "class BMW:        \n",
    "    def car_model3(self):\n",
    "        print(\"Car Model is BMW\")"
   ]
  },
  {
   "cell_type": "code",
   "execution_count": 13,
   "id": "550c2608-b6e1-4355-9d1f-2ef0734af05a",
   "metadata": {},
   "outputs": [
    {
     "ename": "TypeError",
     "evalue": "Can't instantiate abstract class car with abstract method car_model",
     "output_type": "error",
     "traceback": [
      "\u001b[0;31m---------------------------------------------------------------------------\u001b[0m",
      "\u001b[0;31mTypeError\u001b[0m                                 Traceback (most recent call last)",
      "Cell \u001b[0;32mIn[13], line 1\u001b[0m\n\u001b[0;32m----> 1\u001b[0m c \u001b[38;5;241m=\u001b[39m \u001b[43mcar\u001b[49m\u001b[43m(\u001b[49m\u001b[43m)\u001b[49m\n",
      "\u001b[0;31mTypeError\u001b[0m: Can't instantiate abstract class car with abstract method car_model"
     ]
    }
   ],
   "source": [
    "c = car()"
   ]
  },
  {
   "cell_type": "code",
   "execution_count": 18,
   "id": "b3d54067-85ad-4b4b-9299-f2f72e2d9e68",
   "metadata": {},
   "outputs": [],
   "source": [
    "c2 = Tesla()"
   ]
  },
  {
   "cell_type": "code",
   "execution_count": 19,
   "id": "018656d0-4971-4d5c-8782-aeac7b0dbee8",
   "metadata": {},
   "outputs": [
    {
     "name": "stdout",
     "output_type": "stream",
     "text": [
      "Car Model is Tesla\n"
     ]
    }
   ],
   "source": [
    "c2.car_model2()"
   ]
  },
  {
   "cell_type": "code",
   "execution_count": 20,
   "id": "6e8389e1-a064-4eb2-aad7-aa5964737a8e",
   "metadata": {},
   "outputs": [],
   "source": [
    "c3 = BMW()"
   ]
  },
  {
   "cell_type": "code",
   "execution_count": 21,
   "id": "b00b338e-48d2-4770-9bd9-a3687f296e6f",
   "metadata": {},
   "outputs": [
    {
     "name": "stdout",
     "output_type": "stream",
     "text": [
      "Car Model is BMW\n"
     ]
    }
   ],
   "source": [
    "c3.car_model3()"
   ]
  },
  {
   "cell_type": "code",
   "execution_count": null,
   "id": "38de84fb-e924-43b7-a055-d8ffd6862f6e",
   "metadata": {},
   "outputs": [],
   "source": []
  }
 ],
 "metadata": {
  "kernelspec": {
   "display_name": "Python 3 (ipykernel)",
   "language": "python",
   "name": "python3"
  },
  "language_info": {
   "codemirror_mode": {
    "name": "ipython",
    "version": 3
   },
   "file_extension": ".py",
   "mimetype": "text/x-python",
   "name": "python",
   "nbconvert_exporter": "python",
   "pygments_lexer": "ipython3",
   "version": "3.10.8"
  }
 },
 "nbformat": 4,
 "nbformat_minor": 5
}
